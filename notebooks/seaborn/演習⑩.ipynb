{
 "cells": [
  {
   "cell_type": "code",
   "execution_count": 3,
   "id": "7684e149",
   "metadata": {},
   "outputs": [
    {
     "data": {
      "text/html": [
       "<div>\n",
       "<style scoped>\n",
       "    .dataframe tbody tr th:only-of-type {\n",
       "        vertical-align: middle;\n",
       "    }\n",
       "\n",
       "    .dataframe tbody tr th {\n",
       "        vertical-align: top;\n",
       "    }\n",
       "\n",
       "    .dataframe thead th {\n",
       "        text-align: right;\n",
       "    }\n",
       "</style>\n",
       "<table border=\"1\" class=\"dataframe\">\n",
       "  <thead>\n",
       "    <tr style=\"text-align: right;\">\n",
       "      <th></th>\n",
       "      <th>Year</th>\n",
       "      <th>Sales</th>\n",
       "      <th>Category</th>\n",
       "      <th>Ad_Spend</th>\n",
       "      <th>Values</th>\n",
       "      <th>Region</th>\n",
       "    </tr>\n",
       "  </thead>\n",
       "  <tbody>\n",
       "    <tr>\n",
       "      <th>0</th>\n",
       "      <td>2020</td>\n",
       "      <td>500</td>\n",
       "      <td>Electronics</td>\n",
       "      <td>100</td>\n",
       "      <td>7</td>\n",
       "      <td>North</td>\n",
       "    </tr>\n",
       "    <tr>\n",
       "      <th>1</th>\n",
       "      <td>2021</td>\n",
       "      <td>600</td>\n",
       "      <td>Furniture</td>\n",
       "      <td>200</td>\n",
       "      <td>8</td>\n",
       "      <td>South</td>\n",
       "    </tr>\n",
       "    <tr>\n",
       "      <th>2</th>\n",
       "      <td>2022</td>\n",
       "      <td>750</td>\n",
       "      <td>Clothing</td>\n",
       "      <td>300</td>\n",
       "      <td>9</td>\n",
       "      <td>East</td>\n",
       "    </tr>\n",
       "    <tr>\n",
       "      <th>3</th>\n",
       "      <td>2023</td>\n",
       "      <td>850</td>\n",
       "      <td>Electronics</td>\n",
       "      <td>400</td>\n",
       "      <td>5</td>\n",
       "      <td>West</td>\n",
       "    </tr>\n",
       "    <tr>\n",
       "      <th>4</th>\n",
       "      <td>2024</td>\n",
       "      <td>900</td>\n",
       "      <td>Furniture</td>\n",
       "      <td>500</td>\n",
       "      <td>4</td>\n",
       "      <td>North</td>\n",
       "    </tr>\n",
       "  </tbody>\n",
       "</table>\n",
       "</div>"
      ],
      "text/plain": [
       "   Year  Sales     Category  Ad_Spend  Values Region\n",
       "0  2020    500  Electronics       100       7  North\n",
       "1  2021    600    Furniture       200       8  South\n",
       "2  2022    750     Clothing       300       9   East\n",
       "3  2023    850  Electronics       400       5   West\n",
       "4  2024    900    Furniture       500       4  North"
      ]
     },
     "execution_count": 3,
     "metadata": {},
     "output_type": "execute_result"
    }
   ],
   "source": [
    "import pandas as pd\n",
    "import matplotlib.pyplot as plt\n",
    "import seaborn as sns\n",
    " \n",
    " \n",
    "data = {\n",
    "    'Year': [2020, 2021, 2022, 2023, 2024],\n",
    "    'Sales': [500, 600, 750, 850, 900],\n",
    "    'Category': ['Electronics', 'Furniture', 'Clothing', 'Electronics', 'Furniture'],\n",
    "    'Ad_Spend': [100, 200, 300, 400, 500],\n",
    "    'Values': [7, 8, 9, 5, 4],\n",
    "    'Region': ['North', 'South', 'East', 'West', 'North']\n",
    "}\n",
    " \n",
    "df = pd.DataFrame(data)\n",
    "df"
   ]
  },
  {
   "cell_type": "code",
   "execution_count": 4,
   "id": "1159f4e4",
   "metadata": {},
   "outputs": [
    {
     "data": {
      "image/png": "[encoded data removed]",
      "text/plain": [
       "<Figure size 640x480 with 1 Axes>"
      ]
     },
     "metadata": {},
     "output_type": "display_data"
    }
   ],
   "source": [
    "# タイトルをつける\n",
    "\n",
    "sns.scatterplot(x=\"Ad_Spend\",y=\"Sales\",data=df)\n",
    "plt.title(\"Ad Spend vs Sales\")\n",
    "plt.xlabel(\"Ad Spend\")\n",
    "plt.ylabel(\"Sales\")\n",
    "plt.show()"
   ]
  },
  {
   "cell_type": "code",
   "execution_count": null,
   "id": "58e2f561",
   "metadata": {},
   "outputs": [],
   "source": []
  }
 ],
 "metadata": {
  "kernelspec": {
   "display_name": "Python Data Analysis",
   "language": "python",
   "name": "python-data-analysis"
  },
  "language_info": {
   "codemirror_mode": {
    "name": "ipython",
    "version": 3
   },
   "file_extension": ".py",
   "mimetype": "text/x-python",
   "name": "python",
   "nbconvert_exporter": "python",
   "pygments_lexer": "ipython3",
   "version": "3.12.0"
  }
 },
 "nbformat": 4,
 "nbformat_minor": 5
}
